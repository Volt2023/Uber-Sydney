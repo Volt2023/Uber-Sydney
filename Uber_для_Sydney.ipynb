{
 "cells": [
  {
   "cell_type": "markdown",
   "id": "af8d8f28",
   "metadata": {},
   "source": [
    "## Uber для Sydney"
   ]
  },
  {
   "cell_type": "markdown",
   "id": "9bb8b079",
   "metadata": {},
   "source": [
    "Каждая строка представляет собой наблюдение за поездкой от одного места к другому с различными характеристиками поездки."
   ]
  },
  {
   "cell_type": "markdown",
   "id": "dca685f0",
   "metadata": {},
   "source": [
    "* **Origin Movement ID**: уникальный идентификатор начальной точки поездки.\n",
    "* **Origin Display Name**: название начальной точки поездки.\n",
    "* **Origin Geometry**  содержит геометрические данные (координаты) для точек происхождения или отправления. \n",
    "* **Destination Movement ID**: уникальный идентификатор конечной точки поездки.\n",
    "* **Destination Display Name**: название конечной точки поездки.\n",
    "* **Destination Geometry** обычно содержит геометрические данные (координаты) для точек прибытия или назначения поездки. \n",
    "* **Date Range**: диапазон дат, когда были совершены поездки.\n",
    "* **Mean Travel Time (Seconds)**: среднее время поездки в секундах.\n",
    "* **Range - Lower Bound Travel Time (Seconds)**: нижняя граница доверительного интервала для времени поездки.\n",
    "* **Range - Upper Bound Travel Time (Seconds)**: верхняя граница доверительного интервала для времени поездки."
   ]
  },
  {
   "cell_type": "markdown",
   "id": "0c5c0abe",
   "metadata": {},
   "source": [
    "**Цель проекта**: Визуализировать на карте Sydney геометрические данные (координаты) отправки и  назначения поездки. Расчитать среднее значение расстояния, скорости поездки. Благодаря нашему проекту водители Uber в Sydney могут прогнозировать время путешествия на основе расстояния и средней скорости."
   ]
  },
  {
   "cell_type": "code",
   "execution_count": 1,
   "id": "0b413530",
   "metadata": {},
   "outputs": [
    {
     "data": {
      "text/html": [
       "<div>\n",
       "<style scoped>\n",
       "    .dataframe tbody tr th:only-of-type {\n",
       "        vertical-align: middle;\n",
       "    }\n",
       "\n",
       "    .dataframe tbody tr th {\n",
       "        vertical-align: top;\n",
       "    }\n",
       "\n",
       "    .dataframe thead th {\n",
       "        text-align: right;\n",
       "    }\n",
       "</style>\n",
       "<table border=\"1\" class=\"dataframe\">\n",
       "  <thead>\n",
       "    <tr style=\"text-align: right;\">\n",
       "      <th></th>\n",
       "      <th>Origin Movement ID</th>\n",
       "      <th>Origin Display Name</th>\n",
       "      <th>Origin Geometry</th>\n",
       "      <th>Destination Movement ID</th>\n",
       "      <th>Destination Display Name</th>\n",
       "      <th>Destination Geometry</th>\n",
       "      <th>Date Range</th>\n",
       "      <th>Mean Travel Time (Seconds)</th>\n",
       "      <th>Range - Lower Bound Travel Time (Seconds)</th>\n",
       "      <th>Range - Upper Bound Travel Time (Seconds)</th>\n",
       "    </tr>\n",
       "  </thead>\n",
       "  <tbody>\n",
       "    <tr>\n",
       "      <th>0</th>\n",
       "      <td>1844</td>\n",
       "      <td>Sydney - Haymarket - The Rocks (1844)</td>\n",
       "      <td>[[151.20528,-33.86874],[151.20604,-33.86868],[...</td>\n",
       "      <td>1349</td>\n",
       "      <td>Baulkham Hills (East) (1349)</td>\n",
       "      <td>[[150.98016,-33.75661],[150.98118,-33.75797],[...</td>\n",
       "      <td>07/31/2016 - 08/28/2016, Every day, Daily Average</td>\n",
       "      <td>1833</td>\n",
       "      <td>1431</td>\n",
       "      <td>2347</td>\n",
       "    </tr>\n",
       "    <tr>\n",
       "      <th>1</th>\n",
       "      <td>1844</td>\n",
       "      <td>Sydney - Haymarket - The Rocks (1844)</td>\n",
       "      <td>[[151.20528,-33.86874],[151.20604,-33.86868],[...</td>\n",
       "      <td>1350</td>\n",
       "      <td>Baulkham Hills (East) (1350)</td>\n",
       "      <td>[[150.98151,-33.76267],[150.98712,-33.76256],[...</td>\n",
       "      <td>07/31/2016 - 08/28/2016, Every day, Daily Average</td>\n",
       "      <td>1782</td>\n",
       "      <td>1374</td>\n",
       "      <td>2310</td>\n",
       "    </tr>\n",
       "    <tr>\n",
       "      <th>2</th>\n",
       "      <td>1844</td>\n",
       "      <td>Sydney - Haymarket - The Rocks (1844)</td>\n",
       "      <td>[[151.20528,-33.86874],[151.20604,-33.86868],[...</td>\n",
       "      <td>1351</td>\n",
       "      <td>Baulkham Hills (East) (1351)</td>\n",
       "      <td>[[150.99015,-33.75916],[150.98964,-33.75809],[...</td>\n",
       "      <td>07/31/2016 - 08/28/2016, Every day, Daily Average</td>\n",
       "      <td>1784</td>\n",
       "      <td>1341</td>\n",
       "      <td>2373</td>\n",
       "    </tr>\n",
       "    <tr>\n",
       "      <th>3</th>\n",
       "      <td>1844</td>\n",
       "      <td>Sydney - Haymarket - The Rocks (1844)</td>\n",
       "      <td>[[151.20528,-33.86874],[151.20604,-33.86868],[...</td>\n",
       "      <td>1353</td>\n",
       "      <td>Baulkham Hills (East) (1353)</td>\n",
       "      <td>[[150.9914,-33.76266],[150.99094,-33.76218],[1...</td>\n",
       "      <td>07/31/2016 - 08/28/2016, Every day, Daily Average</td>\n",
       "      <td>1906</td>\n",
       "      <td>1553</td>\n",
       "      <td>2339</td>\n",
       "    </tr>\n",
       "    <tr>\n",
       "      <th>4</th>\n",
       "      <td>1844</td>\n",
       "      <td>Sydney - Haymarket - The Rocks (1844)</td>\n",
       "      <td>[[151.20528,-33.86874],[151.20604,-33.86868],[...</td>\n",
       "      <td>1357</td>\n",
       "      <td>Baulkham Hills (West) - Bella Vista (1357)</td>\n",
       "      <td>[[150.9562,-33.7573],[150.95862,-33.75413],[15...</td>\n",
       "      <td>07/31/2016 - 08/28/2016, Every day, Daily Average</td>\n",
       "      <td>1974</td>\n",
       "      <td>1560</td>\n",
       "      <td>2497</td>\n",
       "    </tr>\n",
       "  </tbody>\n",
       "</table>\n",
       "</div>"
      ],
      "text/plain": [
       "   Origin Movement ID                    Origin Display Name  \\\n",
       "0                1844  Sydney - Haymarket - The Rocks (1844)   \n",
       "1                1844  Sydney - Haymarket - The Rocks (1844)   \n",
       "2                1844  Sydney - Haymarket - The Rocks (1844)   \n",
       "3                1844  Sydney - Haymarket - The Rocks (1844)   \n",
       "4                1844  Sydney - Haymarket - The Rocks (1844)   \n",
       "\n",
       "                                     Origin Geometry  Destination Movement ID  \\\n",
       "0  [[151.20528,-33.86874],[151.20604,-33.86868],[...                     1349   \n",
       "1  [[151.20528,-33.86874],[151.20604,-33.86868],[...                     1350   \n",
       "2  [[151.20528,-33.86874],[151.20604,-33.86868],[...                     1351   \n",
       "3  [[151.20528,-33.86874],[151.20604,-33.86868],[...                     1353   \n",
       "4  [[151.20528,-33.86874],[151.20604,-33.86868],[...                     1357   \n",
       "\n",
       "                     Destination Display Name  \\\n",
       "0                Baulkham Hills (East) (1349)   \n",
       "1                Baulkham Hills (East) (1350)   \n",
       "2                Baulkham Hills (East) (1351)   \n",
       "3                Baulkham Hills (East) (1353)   \n",
       "4  Baulkham Hills (West) - Bella Vista (1357)   \n",
       "\n",
       "                                Destination Geometry  \\\n",
       "0  [[150.98016,-33.75661],[150.98118,-33.75797],[...   \n",
       "1  [[150.98151,-33.76267],[150.98712,-33.76256],[...   \n",
       "2  [[150.99015,-33.75916],[150.98964,-33.75809],[...   \n",
       "3  [[150.9914,-33.76266],[150.99094,-33.76218],[1...   \n",
       "4  [[150.9562,-33.7573],[150.95862,-33.75413],[15...   \n",
       "\n",
       "                                          Date Range  \\\n",
       "0  07/31/2016 - 08/28/2016, Every day, Daily Average   \n",
       "1  07/31/2016 - 08/28/2016, Every day, Daily Average   \n",
       "2  07/31/2016 - 08/28/2016, Every day, Daily Average   \n",
       "3  07/31/2016 - 08/28/2016, Every day, Daily Average   \n",
       "4  07/31/2016 - 08/28/2016, Every day, Daily Average   \n",
       "\n",
       "   Mean Travel Time (Seconds)  Range - Lower Bound Travel Time (Seconds)  \\\n",
       "0                        1833                                       1431   \n",
       "1                        1782                                       1374   \n",
       "2                        1784                                       1341   \n",
       "3                        1906                                       1553   \n",
       "4                        1974                                       1560   \n",
       "\n",
       "   Range - Upper Bound Travel Time (Seconds)  \n",
       "0                                       2347  \n",
       "1                                       2310  \n",
       "2                                       2373  \n",
       "3                                       2339  \n",
       "4                                       2497  "
      ]
     },
     "execution_count": 1,
     "metadata": {},
     "output_type": "execute_result"
    }
   ],
   "source": [
    "# Загрузка данных для Sydney\n",
    "import pandas as pd\n",
    "df = pd.read_csv('Updated Travel_Times - Sydney.csv')\n",
    "\n",
    "# Просмотр первых 5 строк данных\n",
    "df.head()\n"
   ]
  },
  {
   "cell_type": "code",
   "execution_count": 2,
   "id": "047ab8c1",
   "metadata": {},
   "outputs": [
    {
     "data": {
      "text/html": [
       "<div>\n",
       "<style scoped>\n",
       "    .dataframe tbody tr th:only-of-type {\n",
       "        vertical-align: middle;\n",
       "    }\n",
       "\n",
       "    .dataframe tbody tr th {\n",
       "        vertical-align: top;\n",
       "    }\n",
       "\n",
       "    .dataframe thead th {\n",
       "        text-align: right;\n",
       "    }\n",
       "</style>\n",
       "<table border=\"1\" class=\"dataframe\">\n",
       "  <thead>\n",
       "    <tr style=\"text-align: right;\">\n",
       "      <th></th>\n",
       "      <th>Origin Movement ID</th>\n",
       "      <th>Origin Display Name</th>\n",
       "      <th>Origin Geometry</th>\n",
       "      <th>Destination Movement ID</th>\n",
       "      <th>Destination Display Name</th>\n",
       "      <th>Destination Geometry</th>\n",
       "      <th>Date Range</th>\n",
       "      <th>Mean Travel Time (Seconds)</th>\n",
       "      <th>Range - Lower Bound Travel Time (Seconds)</th>\n",
       "      <th>Range - Upper Bound Travel Time (Seconds)</th>\n",
       "    </tr>\n",
       "  </thead>\n",
       "  <tbody>\n",
       "    <tr>\n",
       "      <th>501</th>\n",
       "      <td>1844</td>\n",
       "      <td>Sydney - Haymarket - The Rocks (1844)</td>\n",
       "      <td>[[151.20528,-33.86874],[151.20604,-33.86868],[...</td>\n",
       "      <td>3558</td>\n",
       "      <td>Caringbah - Lilli Pilli (3558)</td>\n",
       "      <td>[[151.12013,-34.02833],[151.12092,-34.0243],[1...</td>\n",
       "      <td>07/31/2016 - 08/28/2016, Every day, Daily Average</td>\n",
       "      <td>1864</td>\n",
       "      <td>1511</td>\n",
       "      <td>2298</td>\n",
       "    </tr>\n",
       "    <tr>\n",
       "      <th>502</th>\n",
       "      <td>1844</td>\n",
       "      <td>Sydney - Haymarket - The Rocks (1844)</td>\n",
       "      <td>[[151.20528,-33.86874],[151.20604,-33.86868],[...</td>\n",
       "      <td>3582</td>\n",
       "      <td>Miranda - Yowie Bay (3582)</td>\n",
       "      <td>[[151.1055,-34.0299],[151.1143,-34.03114],[151...</td>\n",
       "      <td>07/31/2016 - 08/28/2016, Every day, Daily Average</td>\n",
       "      <td>2258</td>\n",
       "      <td>1739</td>\n",
       "      <td>2930</td>\n",
       "    </tr>\n",
       "    <tr>\n",
       "      <th>503</th>\n",
       "      <td>1844</td>\n",
       "      <td>Sydney - Haymarket - The Rocks (1844)</td>\n",
       "      <td>[[151.20528,-33.86874],[151.20604,-33.86868],[...</td>\n",
       "      <td>3584</td>\n",
       "      <td>Miranda - Yowie Bay (3584)</td>\n",
       "      <td>[[151.10691,-34.02413],[151.10878,-34.02446],[...</td>\n",
       "      <td>07/31/2016 - 08/28/2016, Every day, Daily Average</td>\n",
       "      <td>1951</td>\n",
       "      <td>1479</td>\n",
       "      <td>2572</td>\n",
       "    </tr>\n",
       "    <tr>\n",
       "      <th>504</th>\n",
       "      <td>1844</td>\n",
       "      <td>Sydney - Haymarket - The Rocks (1844)</td>\n",
       "      <td>[[151.20528,-33.86874],[151.20604,-33.86868],[...</td>\n",
       "      <td>3589</td>\n",
       "      <td>Sylvania - Taren Point (3589)</td>\n",
       "      <td>[[151.12092,-34.0243],[151.11792,-34.02377],[1...</td>\n",
       "      <td>07/31/2016 - 08/28/2016, Every day, Daily Average</td>\n",
       "      <td>1869</td>\n",
       "      <td>1434</td>\n",
       "      <td>2434</td>\n",
       "    </tr>\n",
       "    <tr>\n",
       "      <th>505</th>\n",
       "      <td>1844</td>\n",
       "      <td>Sydney - Haymarket - The Rocks (1844)</td>\n",
       "      <td>[[151.20528,-33.86874],[151.20604,-33.86868],[...</td>\n",
       "      <td>3590</td>\n",
       "      <td>Sylvania - Taren Point (3590)</td>\n",
       "      <td>[[151.12668,-34.02605],[151.12684,-34.02515],[...</td>\n",
       "      <td>07/31/2016 - 08/28/2016, Every day, Daily Average</td>\n",
       "      <td>1910</td>\n",
       "      <td>1466</td>\n",
       "      <td>2488</td>\n",
       "    </tr>\n",
       "  </tbody>\n",
       "</table>\n",
       "</div>"
      ],
      "text/plain": [
       "     Origin Movement ID                    Origin Display Name  \\\n",
       "501                1844  Sydney - Haymarket - The Rocks (1844)   \n",
       "502                1844  Sydney - Haymarket - The Rocks (1844)   \n",
       "503                1844  Sydney - Haymarket - The Rocks (1844)   \n",
       "504                1844  Sydney - Haymarket - The Rocks (1844)   \n",
       "505                1844  Sydney - Haymarket - The Rocks (1844)   \n",
       "\n",
       "                                       Origin Geometry  \\\n",
       "501  [[151.20528,-33.86874],[151.20604,-33.86868],[...   \n",
       "502  [[151.20528,-33.86874],[151.20604,-33.86868],[...   \n",
       "503  [[151.20528,-33.86874],[151.20604,-33.86868],[...   \n",
       "504  [[151.20528,-33.86874],[151.20604,-33.86868],[...   \n",
       "505  [[151.20528,-33.86874],[151.20604,-33.86868],[...   \n",
       "\n",
       "     Destination Movement ID        Destination Display Name  \\\n",
       "501                     3558  Caringbah - Lilli Pilli (3558)   \n",
       "502                     3582      Miranda - Yowie Bay (3582)   \n",
       "503                     3584      Miranda - Yowie Bay (3584)   \n",
       "504                     3589   Sylvania - Taren Point (3589)   \n",
       "505                     3590   Sylvania - Taren Point (3590)   \n",
       "\n",
       "                                  Destination Geometry  \\\n",
       "501  [[151.12013,-34.02833],[151.12092,-34.0243],[1...   \n",
       "502  [[151.1055,-34.0299],[151.1143,-34.03114],[151...   \n",
       "503  [[151.10691,-34.02413],[151.10878,-34.02446],[...   \n",
       "504  [[151.12092,-34.0243],[151.11792,-34.02377],[1...   \n",
       "505  [[151.12668,-34.02605],[151.12684,-34.02515],[...   \n",
       "\n",
       "                                            Date Range  \\\n",
       "501  07/31/2016 - 08/28/2016, Every day, Daily Average   \n",
       "502  07/31/2016 - 08/28/2016, Every day, Daily Average   \n",
       "503  07/31/2016 - 08/28/2016, Every day, Daily Average   \n",
       "504  07/31/2016 - 08/28/2016, Every day, Daily Average   \n",
       "505  07/31/2016 - 08/28/2016, Every day, Daily Average   \n",
       "\n",
       "     Mean Travel Time (Seconds)  Range - Lower Bound Travel Time (Seconds)  \\\n",
       "501                        1864                                       1511   \n",
       "502                        2258                                       1739   \n",
       "503                        1951                                       1479   \n",
       "504                        1869                                       1434   \n",
       "505                        1910                                       1466   \n",
       "\n",
       "     Range - Upper Bound Travel Time (Seconds)  \n",
       "501                                       2298  \n",
       "502                                       2930  \n",
       "503                                       2572  \n",
       "504                                       2434  \n",
       "505                                       2488  "
      ]
     },
     "execution_count": 2,
     "metadata": {},
     "output_type": "execute_result"
    }
   ],
   "source": [
    "df.tail()"
   ]
  },
  {
   "cell_type": "markdown",
   "id": "a74134c5",
   "metadata": {},
   "source": [
    "Так как в столбце Date Range содержится одинаковая информация 07/31/2016 - 08/28/2016, Every day, Daily Average. Мы его удаляем."
   ]
  },
  {
   "cell_type": "code",
   "execution_count": 3,
   "id": "4a8a6a33",
   "metadata": {},
   "outputs": [],
   "source": [
    "df = df.drop(columns=['Date Range'])\n"
   ]
  },
  {
   "cell_type": "markdown",
   "id": "2a55b069",
   "metadata": {},
   "source": [
    "Проверяем содержимое столбцов 'Origin Geometry' и 'Destination Geometry'"
   ]
  },
  {
   "cell_type": "raw",
   "id": "87787f7b",
   "metadata": {},
   "source": [
    "print(df['Origin Geometry'].values)\n",
    "print(df['Destination Geometry'].values)\n"
   ]
  },
  {
   "cell_type": "markdown",
   "id": "dedfcd2b",
   "metadata": {},
   "source": [
    "В этом коде мы определяем две функции: is_valid_json и convert_coords, и используем их для преобразования значений столбцов 'Origin Geometry' и 'Destination Geometry' в новом DataFrame."
   ]
  },
  {
   "cell_type": "markdown",
   "id": "0dd4638b",
   "metadata": {},
   "source": [
    "Функция is_valid_json проверяет, является ли переданная строка json_str валидным JSON-объектом. Она использует json.loads для попытки разбора строки в формате JSON. Если разбор проходит успешно, функция возвращает True, в противном случае - False."
   ]
  },
  {
   "cell_type": "markdown",
   "id": "55554ddb",
   "metadata": {},
   "source": [
    "Функция convert_coords принимает значение coords (координаты) и проверяет, является ли это значение строкой и валидным JSON. Если это так, функция парсит строку JSON в список координат и создает объекты Point из каждой координаты, используя модуль shapely.geometry.Point. Если значение coords не является строкой или не является валидным JSON, функция возвращает None."
   ]
  },
  {
   "cell_type": "markdown",
   "id": "83983762",
   "metadata": {},
   "source": [
    "Затем мы создаем новый DataFrame new_df и применяем функцию convert_coords к столбцам 'Origin Geometry' и 'Destination Geometry' в исходном DataFrame df с помощью метода .apply. Результаты преобразования сохраняются в соответствующих столбцах new_df."
   ]
  },
  {
   "cell_type": "markdown",
   "id": "98c24ce2",
   "metadata": {},
   "source": [
    "Новый DataFrame new_df содержит преобразованные значения столбцов 'Origin Geometry' и 'Destination Geometry', где каждое значение является списком объектов Point. Мы выводим этот новый DataFrame для просмотра и проверки результатов преобразования."
   ]
  },
  {
   "cell_type": "code",
   "execution_count": 4,
   "id": "07b82dda",
   "metadata": {},
   "outputs": [
    {
     "name": "stdout",
     "output_type": "stream",
     "text": [
      "                                       Origin Geometry  \\\n",
      "0    [POINT (151.20528 -33.86874), POINT (151.20604...   \n",
      "1    [POINT (151.20528 -33.86874), POINT (151.20604...   \n",
      "2    [POINT (151.20528 -33.86874), POINT (151.20604...   \n",
      "3    [POINT (151.20528 -33.86874), POINT (151.20604...   \n",
      "4    [POINT (151.20528 -33.86874), POINT (151.20604...   \n",
      "..                                                 ...   \n",
      "501  [POINT (151.20528 -33.86874), POINT (151.20604...   \n",
      "502  [POINT (151.20528 -33.86874), POINT (151.20604...   \n",
      "503  [POINT (151.20528 -33.86874), POINT (151.20604...   \n",
      "504  [POINT (151.20528 -33.86874), POINT (151.20604...   \n",
      "505  [POINT (151.20528 -33.86874), POINT (151.20604...   \n",
      "\n",
      "                                  Destination Geometry  \n",
      "0    [POINT (150.98016 -33.75661), POINT (150.98118...  \n",
      "1    [POINT (150.98151 -33.76267), POINT (150.98712...  \n",
      "2    [POINT (150.99015 -33.75916), POINT (150.98964...  \n",
      "3    [POINT (150.9914 -33.76266), POINT (150.99094 ...  \n",
      "4    [POINT (150.9562 -33.7573), POINT (150.95862 -...  \n",
      "..                                                 ...  \n",
      "501  [POINT (151.12013 -34.02833), POINT (151.12092...  \n",
      "502  [POINT (151.1055 -34.0299), POINT (151.1143 -3...  \n",
      "503  [POINT (151.10691 -34.02413), POINT (151.10878...  \n",
      "504  [POINT (151.12092 -34.0243), POINT (151.11792 ...  \n",
      "505  [POINT (151.12668 -34.02605), POINT (151.12684...  \n",
      "\n",
      "[506 rows x 2 columns]\n"
     ]
    }
   ],
   "source": [
    "import pandas as pd\n",
    "from shapely.geometry import Point\n",
    "import json\n",
    "\n",
    "def is_valid_json(json_str):\n",
    "    try:\n",
    "        json.loads(json_str)\n",
    "        return True\n",
    "    except ValueError:\n",
    "        return False\n",
    "\n",
    "def convert_coords(coords):\n",
    "    if isinstance(coords, str) and is_valid_json(coords):\n",
    "        coordinates = json.loads(coords)\n",
    "        return [Point(coord[0], coord[1]) for coord in coordinates]\n",
    "    else:\n",
    "        return None\n",
    "\n",
    "# Создаем новый DataFrame с преобразованными значениями столбцов\n",
    "new_df = pd.DataFrame()\n",
    "new_df['Origin Geometry'] = df['Origin Geometry'].apply(convert_coords)\n",
    "new_df['Destination Geometry'] = df['Destination Geometry'].apply(convert_coords)\n",
    "\n",
    "# Выводим новый DataFrame\n",
    "print(new_df)\n"
   ]
  },
  {
   "cell_type": "markdown",
   "id": "f99ab136",
   "metadata": {},
   "source": [
    "В новом DataFrame new_df каждое значение в столбцах 'Origin Geometry' и 'Destination Geometry' представлено списком объектов Point. Каждый объект Point содержит координаты точки в формате (долгота, широта)."
   ]
  },
  {
   "cell_type": "code",
   "execution_count": 5,
   "id": "afdb75a1",
   "metadata": {},
   "outputs": [
    {
     "name": "stdout",
     "output_type": "stream",
     "text": [
      "<class 'pandas.core.frame.DataFrame'>\n",
      "RangeIndex: 506 entries, 0 to 505\n",
      "Data columns (total 9 columns):\n",
      " #   Column                                     Non-Null Count  Dtype \n",
      "---  ------                                     --------------  ----- \n",
      " 0   Origin Movement ID                         506 non-null    int64 \n",
      " 1   Origin Display Name                        506 non-null    object\n",
      " 2   Origin Geometry                            506 non-null    object\n",
      " 3   Destination Movement ID                    506 non-null    int64 \n",
      " 4   Destination Display Name                   506 non-null    object\n",
      " 5   Destination Geometry                       506 non-null    object\n",
      " 6   Mean Travel Time (Seconds)                 506 non-null    int64 \n",
      " 7   Range - Lower Bound Travel Time (Seconds)  506 non-null    int64 \n",
      " 8   Range - Upper Bound Travel Time (Seconds)  506 non-null    int64 \n",
      "dtypes: int64(5), object(4)\n",
      "memory usage: 35.7+ KB\n",
      "None\n",
      "       Origin Movement ID  Destination Movement ID  \\\n",
      "count               506.0               506.000000   \n",
      "mean               1844.0              2582.648221   \n",
      "std                   0.0               453.098917   \n",
      "min                1844.0              1349.000000   \n",
      "25%                1844.0              2310.250000   \n",
      "50%                1844.0              2470.500000   \n",
      "75%                1844.0              2751.500000   \n",
      "max                1844.0              3590.000000   \n",
      "\n",
      "       Mean Travel Time (Seconds)  Range - Lower Bound Travel Time (Seconds)  \\\n",
      "count                  506.000000                                 506.000000   \n",
      "mean                  1265.920949                                 966.820158   \n",
      "std                    438.368494                                 359.926556   \n",
      "min                    338.000000                                 217.000000   \n",
      "25%                    924.250000                                 696.000000   \n",
      "50%                   1283.000000                                 977.500000   \n",
      "75%                   1591.250000                                1220.000000   \n",
      "max                   2465.000000                                1981.000000   \n",
      "\n",
      "       Range - Upper Bound Travel Time (Seconds)  \n",
      "count                                 506.000000  \n",
      "mean                                 1661.100791  \n",
      "std                                   543.554021  \n",
      "min                                   524.000000  \n",
      "25%                                  1245.250000  \n",
      "50%                                  1663.500000  \n",
      "75%                                  2058.750000  \n",
      "max                                  3069.000000  \n"
     ]
    }
   ],
   "source": [
    "\n",
    "\n",
    "# Посмотрите на общую информацию о данных\n",
    "print(df.info())\n",
    "\n",
    "# Описательная статистика\n",
    "print(df.describe())\n"
   ]
  },
  {
   "cell_type": "markdown",
   "id": "99109a9a",
   "metadata": {},
   "source": [
    "Это подробная информация о вашем датасете. Она показывает количество значений, которые не являются пустыми (Non-Null Count), для каждого столбца, и также дает общую статистическую информацию (среднее значение, стандартное отклонение, минимум, максимум и квартили) для каждого столбца, содержащего числовые данные."
   ]
  },
  {
   "cell_type": "code",
   "execution_count": 6,
   "id": "e2e8b75a",
   "metadata": {},
   "outputs": [
    {
     "name": "stdout",
     "output_type": "stream",
     "text": [
      "                                           Origin Movement ID  \\\n",
      "Origin Movement ID                                        NaN   \n",
      "Destination Movement ID                                   NaN   \n",
      "Mean Travel Time (Seconds)                                NaN   \n",
      "Range - Lower Bound Travel Time (Seconds)                 NaN   \n",
      "Range - Upper Bound Travel Time (Seconds)                 NaN   \n",
      "\n",
      "                                           Destination Movement ID  \\\n",
      "Origin Movement ID                                             NaN   \n",
      "Destination Movement ID                                   1.000000   \n",
      "Mean Travel Time (Seconds)                                0.124425   \n",
      "Range - Lower Bound Travel Time (Seconds)                 0.120961   \n",
      "Range - Upper Bound Travel Time (Seconds)                 0.124746   \n",
      "\n",
      "                                           Mean Travel Time (Seconds)  \\\n",
      "Origin Movement ID                                                NaN   \n",
      "Destination Movement ID                                      0.124425   \n",
      "Mean Travel Time (Seconds)                                   1.000000   \n",
      "Range - Lower Bound Travel Time (Seconds)                    0.991075   \n",
      "Range - Upper Bound Travel Time (Seconds)                    0.987650   \n",
      "\n",
      "                                           Range - Lower Bound Travel Time (Seconds)  \\\n",
      "Origin Movement ID                                                               NaN   \n",
      "Destination Movement ID                                                     0.120961   \n",
      "Mean Travel Time (Seconds)                                                  0.991075   \n",
      "Range - Lower Bound Travel Time (Seconds)                                   1.000000   \n",
      "Range - Upper Bound Travel Time (Seconds)                                   0.958024   \n",
      "\n",
      "                                           Range - Upper Bound Travel Time (Seconds)  \n",
      "Origin Movement ID                                                               NaN  \n",
      "Destination Movement ID                                                     0.124746  \n",
      "Mean Travel Time (Seconds)                                                  0.987650  \n",
      "Range - Lower Bound Travel Time (Seconds)                                   0.958024  \n",
      "Range - Upper Bound Travel Time (Seconds)                                   1.000000  \n"
     ]
    },
    {
     "name": "stderr",
     "output_type": "stream",
     "text": [
      "C:\\Users\\Ольга\\AppData\\Local\\Temp\\ipykernel_8532\\1752422992.py:1: FutureWarning: The default value of numeric_only in DataFrame.corr is deprecated. In a future version, it will default to False. Select only valid columns or specify the value of numeric_only to silence this warning.\n",
      "  correlation_matrix = df.corr()\n"
     ]
    }
   ],
   "source": [
    "correlation_matrix = df.corr()\n",
    "print(correlation_matrix)\n"
   ]
  },
  {
   "cell_type": "code",
   "execution_count": 7,
   "id": "909da53e",
   "metadata": {},
   "outputs": [],
   "source": [
    "df = df.drop('Origin Movement ID', axis=1)\n"
   ]
  },
  {
   "cell_type": "code",
   "execution_count": 8,
   "id": "ee177e5e",
   "metadata": {},
   "outputs": [
    {
     "name": "stdout",
     "output_type": "stream",
     "text": [
      "                                           Destination Movement ID  \\\n",
      "Destination Movement ID                                   1.000000   \n",
      "Mean Travel Time (Seconds)                                0.124425   \n",
      "Range - Lower Bound Travel Time (Seconds)                 0.120961   \n",
      "Range - Upper Bound Travel Time (Seconds)                 0.124746   \n",
      "\n",
      "                                           Mean Travel Time (Seconds)  \\\n",
      "Destination Movement ID                                      0.124425   \n",
      "Mean Travel Time (Seconds)                                   1.000000   \n",
      "Range - Lower Bound Travel Time (Seconds)                    0.991075   \n",
      "Range - Upper Bound Travel Time (Seconds)                    0.987650   \n",
      "\n",
      "                                           Range - Lower Bound Travel Time (Seconds)  \\\n",
      "Destination Movement ID                                                     0.120961   \n",
      "Mean Travel Time (Seconds)                                                  0.991075   \n",
      "Range - Lower Bound Travel Time (Seconds)                                   1.000000   \n",
      "Range - Upper Bound Travel Time (Seconds)                                   0.958024   \n",
      "\n",
      "                                           Range - Upper Bound Travel Time (Seconds)  \n",
      "Destination Movement ID                                                     0.124746  \n",
      "Mean Travel Time (Seconds)                                                  0.987650  \n",
      "Range - Lower Bound Travel Time (Seconds)                                   0.958024  \n",
      "Range - Upper Bound Travel Time (Seconds)                                   1.000000  \n"
     ]
    },
    {
     "name": "stderr",
     "output_type": "stream",
     "text": [
      "C:\\Users\\Ольга\\AppData\\Local\\Temp\\ipykernel_8532\\2020863294.py:1: FutureWarning: The default value of numeric_only in DataFrame.corr is deprecated. In a future version, it will default to False. Select only valid columns or specify the value of numeric_only to silence this warning.\n",
      "  correlation_matrix = df.corr()\n"
     ]
    }
   ],
   "source": [
    "correlation_matrix = df.corr()\n",
    "print(correlation_matrix)"
   ]
  },
  {
   "cell_type": "markdown",
   "id": "b1cd4b9b",
   "metadata": {},
   "source": [
    "Высокая корреляция между независимыми переменными может вызвать проблемы мультиколлинеарности в регрессионных моделях. Мультиколлинеарность может сделать оценки коэффициентов регрессии нестабильными и трудными для интерпретации. Поэтому Range - Lower Bound Travel Time (Seconds), Range - Upper Bound Travel Time (Seconds)  удаляем.  \"Destination Movement ID\" имеет слабую корреляцию с другими числовыми столбцами. Это может означать, что это может не быть сильным предиктором для \"Mean Travel Time (Seconds)\". Так же удаляем \"Destination Movement ID\""
   ]
  },
  {
   "cell_type": "code",
   "execution_count": 9,
   "id": "980bb61d",
   "metadata": {},
   "outputs": [],
   "source": [
    "df = df.drop(['Range - Lower Bound Travel Time (Seconds)', 'Range - Upper Bound Travel Time (Seconds)', 'Destination Movement ID'], axis=1)\n"
   ]
  },
  {
   "cell_type": "markdown",
   "id": "9fc1665b",
   "metadata": {},
   "source": [
    "Файл World_Cities.shp с геометрией Сиднея, брала на сайте Efrain maps https://www.efrainmaps.es/english-version/free-downloads/world/"
   ]
  },
  {
   "cell_type": "code",
   "execution_count": 10,
   "id": "d5f7e2c7",
   "metadata": {},
   "outputs": [
    {
     "data": {
      "text/html": [
       "<div>\n",
       "<style scoped>\n",
       "    .dataframe tbody tr th:only-of-type {\n",
       "        vertical-align: middle;\n",
       "    }\n",
       "\n",
       "    .dataframe tbody tr th {\n",
       "        vertical-align: top;\n",
       "    }\n",
       "\n",
       "    .dataframe thead th {\n",
       "        text-align: right;\n",
       "    }\n",
       "</style>\n",
       "<table border=\"1\" class=\"dataframe\">\n",
       "  <thead>\n",
       "    <tr style=\"text-align: right;\">\n",
       "      <th></th>\n",
       "      <th>Origin Display Name</th>\n",
       "      <th>Origin Geometry</th>\n",
       "      <th>Destination Display Name</th>\n",
       "      <th>Destination Geometry</th>\n",
       "      <th>Mean Travel Time (Seconds)</th>\n",
       "    </tr>\n",
       "  </thead>\n",
       "  <tbody>\n",
       "    <tr>\n",
       "      <th>0</th>\n",
       "      <td>Sydney - Haymarket - The Rocks (1844)</td>\n",
       "      <td>[[151.20528,-33.86874],[151.20604,-33.86868],[...</td>\n",
       "      <td>Baulkham Hills (East) (1349)</td>\n",
       "      <td>[[150.98016,-33.75661],[150.98118,-33.75797],[...</td>\n",
       "      <td>1833</td>\n",
       "    </tr>\n",
       "    <tr>\n",
       "      <th>1</th>\n",
       "      <td>Sydney - Haymarket - The Rocks (1844)</td>\n",
       "      <td>[[151.20528,-33.86874],[151.20604,-33.86868],[...</td>\n",
       "      <td>Baulkham Hills (East) (1350)</td>\n",
       "      <td>[[150.98151,-33.76267],[150.98712,-33.76256],[...</td>\n",
       "      <td>1782</td>\n",
       "    </tr>\n",
       "    <tr>\n",
       "      <th>2</th>\n",
       "      <td>Sydney - Haymarket - The Rocks (1844)</td>\n",
       "      <td>[[151.20528,-33.86874],[151.20604,-33.86868],[...</td>\n",
       "      <td>Baulkham Hills (East) (1351)</td>\n",
       "      <td>[[150.99015,-33.75916],[150.98964,-33.75809],[...</td>\n",
       "      <td>1784</td>\n",
       "    </tr>\n",
       "    <tr>\n",
       "      <th>3</th>\n",
       "      <td>Sydney - Haymarket - The Rocks (1844)</td>\n",
       "      <td>[[151.20528,-33.86874],[151.20604,-33.86868],[...</td>\n",
       "      <td>Baulkham Hills (East) (1353)</td>\n",
       "      <td>[[150.9914,-33.76266],[150.99094,-33.76218],[1...</td>\n",
       "      <td>1906</td>\n",
       "    </tr>\n",
       "    <tr>\n",
       "      <th>4</th>\n",
       "      <td>Sydney - Haymarket - The Rocks (1844)</td>\n",
       "      <td>[[151.20528,-33.86874],[151.20604,-33.86868],[...</td>\n",
       "      <td>Baulkham Hills (West) - Bella Vista (1357)</td>\n",
       "      <td>[[150.9562,-33.7573],[150.95862,-33.75413],[15...</td>\n",
       "      <td>1974</td>\n",
       "    </tr>\n",
       "  </tbody>\n",
       "</table>\n",
       "</div>"
      ],
      "text/plain": [
       "                     Origin Display Name  \\\n",
       "0  Sydney - Haymarket - The Rocks (1844)   \n",
       "1  Sydney - Haymarket - The Rocks (1844)   \n",
       "2  Sydney - Haymarket - The Rocks (1844)   \n",
       "3  Sydney - Haymarket - The Rocks (1844)   \n",
       "4  Sydney - Haymarket - The Rocks (1844)   \n",
       "\n",
       "                                     Origin Geometry  \\\n",
       "0  [[151.20528,-33.86874],[151.20604,-33.86868],[...   \n",
       "1  [[151.20528,-33.86874],[151.20604,-33.86868],[...   \n",
       "2  [[151.20528,-33.86874],[151.20604,-33.86868],[...   \n",
       "3  [[151.20528,-33.86874],[151.20604,-33.86868],[...   \n",
       "4  [[151.20528,-33.86874],[151.20604,-33.86868],[...   \n",
       "\n",
       "                     Destination Display Name  \\\n",
       "0                Baulkham Hills (East) (1349)   \n",
       "1                Baulkham Hills (East) (1350)   \n",
       "2                Baulkham Hills (East) (1351)   \n",
       "3                Baulkham Hills (East) (1353)   \n",
       "4  Baulkham Hills (West) - Bella Vista (1357)   \n",
       "\n",
       "                                Destination Geometry  \\\n",
       "0  [[150.98016,-33.75661],[150.98118,-33.75797],[...   \n",
       "1  [[150.98151,-33.76267],[150.98712,-33.76256],[...   \n",
       "2  [[150.99015,-33.75916],[150.98964,-33.75809],[...   \n",
       "3  [[150.9914,-33.76266],[150.99094,-33.76218],[1...   \n",
       "4  [[150.9562,-33.7573],[150.95862,-33.75413],[15...   \n",
       "\n",
       "   Mean Travel Time (Seconds)  \n",
       "0                        1833  \n",
       "1                        1782  \n",
       "2                        1784  \n",
       "3                        1906  \n",
       "4                        1974  "
      ]
     },
     "execution_count": 10,
     "metadata": {},
     "output_type": "execute_result"
    }
   ],
   "source": [
    "df.head()"
   ]
  },
  {
   "cell_type": "code",
   "execution_count": 11,
   "id": "71297298",
   "metadata": {},
   "outputs": [
    {
     "name": "stdout",
     "output_type": "stream",
     "text": [
      "Index                          128\n",
      "Origin Display Name           4048\n",
      "Origin Geometry               4048\n",
      "Destination Display Name      4048\n",
      "Destination Geometry          4048\n",
      "Mean Travel Time (Seconds)    4048\n",
      "dtype: int64\n",
      "<class 'pandas.core.frame.DataFrame'>\n",
      "RangeIndex: 506 entries, 0 to 505\n",
      "Data columns (total 5 columns):\n",
      " #   Column                      Non-Null Count  Dtype \n",
      "---  ------                      --------------  ----- \n",
      " 0   Origin Display Name         506 non-null    object\n",
      " 1   Origin Geometry             506 non-null    object\n",
      " 2   Destination Display Name    506 non-null    object\n",
      " 3   Destination Geometry        506 non-null    object\n",
      " 4   Mean Travel Time (Seconds)  506 non-null    int64 \n",
      "dtypes: int64(1), object(4)\n",
      "memory usage: 19.9+ KB\n"
     ]
    }
   ],
   "source": [
    "print(df.memory_usage())\n",
    "df.info()\n"
   ]
  },
  {
   "cell_type": "markdown",
   "id": "5bf73834",
   "metadata": {},
   "source": [
    "Origin Display Name: название начальной точки поездки. Destination Display Name: название конечной точки поездки. Origin Geometry уникальный идентификатор начальной точки поездки Destination Geometry обычно содержит геометрические данные (координаты) для точек прибытия или назначения поездки. Так как они дублируют друг друга, мы удалим Origin Display Name, Destination Display Name"
   ]
  },
  {
   "cell_type": "code",
   "execution_count": 12,
   "id": "de7dbac1",
   "metadata": {},
   "outputs": [],
   "source": [
    "df = df.drop(['Origin Display Name', 'Destination Display Name'], axis=1)"
   ]
  },
  {
   "cell_type": "code",
   "execution_count": 13,
   "id": "13d709b3",
   "metadata": {},
   "outputs": [
    {
     "name": "stdout",
     "output_type": "stream",
     "text": [
      "Index                          128\n",
      "Origin Geometry               4048\n",
      "Destination Geometry          4048\n",
      "Mean Travel Time (Seconds)    4048\n",
      "dtype: int64\n",
      "<class 'pandas.core.frame.DataFrame'>\n",
      "RangeIndex: 506 entries, 0 to 505\n",
      "Data columns (total 3 columns):\n",
      " #   Column                      Non-Null Count  Dtype \n",
      "---  ------                      --------------  ----- \n",
      " 0   Origin Geometry             506 non-null    object\n",
      " 1   Destination Geometry        506 non-null    object\n",
      " 2   Mean Travel Time (Seconds)  506 non-null    int64 \n",
      "dtypes: int64(1), object(2)\n",
      "memory usage: 12.0+ KB\n"
     ]
    }
   ],
   "source": [
    "print(df.memory_usage())\n",
    "df.info()\n"
   ]
  },
  {
   "cell_type": "code",
   "execution_count": 14,
   "id": "1ff03d9a",
   "metadata": {
    "scrolled": true
   },
   "outputs": [
    {
     "name": "stdout",
     "output_type": "stream",
     "text": [
      "0      [POINT (151.20528 -33.86874), POINT (151.20604...\n",
      "1      [POINT (151.20528 -33.86874), POINT (151.20604...\n",
      "2      [POINT (151.20528 -33.86874), POINT (151.20604...\n",
      "3      [POINT (151.20528 -33.86874), POINT (151.20604...\n",
      "4      [POINT (151.20528 -33.86874), POINT (151.20604...\n",
      "                             ...                        \n",
      "501    [POINT (151.20528 -33.86874), POINT (151.20604...\n",
      "502    [POINT (151.20528 -33.86874), POINT (151.20604...\n",
      "503    [POINT (151.20528 -33.86874), POINT (151.20604...\n",
      "504    [POINT (151.20528 -33.86874), POINT (151.20604...\n",
      "505    [POINT (151.20528 -33.86874), POINT (151.20604...\n",
      "Name: Origin Geometry, Length: 506, dtype: object\n"
     ]
    }
   ],
   "source": [
    "print(new_df['Origin Geometry'])"
   ]
  },
  {
   "cell_type": "code",
   "execution_count": 15,
   "id": "d247fee3",
   "metadata": {},
   "outputs": [
    {
     "name": "stdout",
     "output_type": "stream",
     "text": [
      "[<POINT (151.205 -33.869)>, <POINT (151.206 -33.869)>, <POINT (151.206 -33.871)>, <POINT (151.206 -33.871)>, <POINT (151.205 -33.869)>]\n"
     ]
    }
   ],
   "source": [
    "print(new_df.loc[0, 'Origin Geometry'])\n"
   ]
  },
  {
   "cell_type": "markdown",
   "id": "ad1e6760",
   "metadata": {},
   "source": [
    "Так как у нас нет информации о датасете. В каждой строчке new_df Origin Geometry 5 разных точек. Возможно, в данных присутствует информация о разных точках отправки такси, которые расположены в одном месте или вблизи друг друга."
   ]
  },
  {
   "cell_type": "code",
   "execution_count": 16,
   "id": "ae253033",
   "metadata": {},
   "outputs": [
    {
     "name": "stdout",
     "output_type": "stream",
     "text": [
      "Город Sydney найден в файле World_Cities.shp.\n",
      "       NAME    COUNTRY CAPITAL                     geometry\n",
      "292  Sydney  Australia       N  POINT (151.02820 -33.88977)\n"
     ]
    }
   ],
   "source": [
    "import geopandas as gpd\n",
    "\n",
    "# Загрузка файла World_Cities.shp\n",
    "world_cities = gpd.read_file('World_Cities.shp')\n",
    "\n",
    "# Фильтрация города Sydney\n",
    "sydney = world_cities[world_cities['NAME'] == 'Sydney']\n",
    "\n",
    "# Проверка наличия города Sydney\n",
    "if not sydney.empty:\n",
    "    print(\"Город Sydney найден в файле World_Cities.shp.\")\n",
    "    print(sydney)\n",
    "else:\n",
    "    print(\"Город Sydney не найден в файле World_Cities.shp.\")\n"
   ]
  },
  {
   "cell_type": "markdown",
   "id": "a8c6442d",
   "metadata": {},
   "source": [
    "В предоставленном коде мы используем библиотеку geopandas для работы с географическими данными в формате шейп-файлов.\n",
    "\n",
    "1. geopandas: Это библиотека, которая расширяет функциональность библиотеки pandas для работы с геопространственными данными. Она предоставляет возможности для чтения, записи, анализа и визуализации географических данных."
   ]
  },
  {
   "cell_type": "markdown",
   "id": "61e3a0eb",
   "metadata": {},
   "source": [
    "В этом коде мы загружаем файл World_Cities.shp, содержащий информацию о городах мира, с помощью функции gpd.read_file(). Затем мы фильтруем этот DataFrame, чтобы найти город Sydney, используя условие world_cities['NAME'] == 'Sydney'. Если город Sydney найден, мы выводим информацию о нем, иначе выводим сообщение о том, что город Sydney не найден."
   ]
  },
  {
   "cell_type": "markdown",
   "id": "4b3ac3b8",
   "metadata": {},
   "source": [
    "Используя geopandas, мы можем выполнять различные операции с географическими данными, включая загрузку, фильтрацию, пространственные запросы и визуализацию."
   ]
  },
  {
   "cell_type": "raw",
   "id": "e314c0eb",
   "metadata": {},
   "source": [
    "import folium\n",
    "import time\n",
    "from shapely.geometry import mapping, Point, MultiPoint\n",
    "\n",
    "# Создание карты города Sydney\n",
    "sydney_map = folium.Map(location=[-33.8688, 151.2093], zoom_start=10)\n",
    "\n",
    "# Засекаем время загрузки данных и построения карты\n",
    "start_time = time.time()\n",
    "\n",
    "# Добавление точек происхождения на карту\n",
    "origin_geometry = [Point(151.205, -33.869), Point(151.206, -33.869), Point(151.206, -33.871),\n",
    "                   Point(151.206, -33.871), Point(151.205, -33.869)]\n",
    "for point in origin_geometry:\n",
    "    folium.Marker(location=[point.y, point.x], icon=folium.Icon(color='red')).add_to(sydney_map)\n",
    "\n",
    "# Добавление точек назначения на карту\n",
    "for point_list in new_df['Destination Geometry'].dropna():\n",
    "    for point in point_list:\n",
    "        folium.Marker(location=[point.y, point.x], icon=folium.Icon(color='blue')).add_to(sydney_map)\n",
    "\n",
    "# Остановка таймера и вывод времени загрузки\n",
    "end_time = time.time()\n",
    "elapsed_time = end_time - start_time\n",
    "print(\"Время загрузки и построения карты: %.2f секунд\" % elapsed_time)\n",
    "\n",
    "# Отображение карты\n",
    "sydney_map\n"
   ]
  },
  {
   "cell_type": "markdown",
   "id": "9f7fdee6",
   "metadata": {},
   "source": [
    "В предоставленном коде мы использовали следующие библиотеки:\n",
    "\n",
    "1. folium: Это библиотека для создания интерактивных карт и визуализации географических данных.\n",
    "2. time: Это встроенная библиотека Python для работы со временем и измерения времени выполнения операций.\n",
    "3. shapely.geometry: Это библиотека для работы с геометрическими объектами, такими как точки, линии, полигоны и многое другое."
   ]
  },
  {
   "cell_type": "markdown",
   "id": "fb322f21",
   "metadata": {},
   "source": [
    "В этом коде мы создаем карту города Sydney с использованием folium.Map. Затем мы добавляем маркеры на карту для каждой точки происхождения и точки назначения, используя столбцы Origin Geometry и Destination Geometry из нашего DataFrame. Для этого мы перебираем списки точек в каждом столбце и добавляем маркеры на карту с помощью folium.Marker. Маркеры происхождения обозначены красным цветом, а маркеры назначения - синим цветом."
   ]
  },
  {
   "cell_type": "markdown",
   "id": "cc5618dd",
   "metadata": {},
   "source": [
    "В этом коде мы создаем карту города Sydney с использованием folium.Map. Затем мы добавляем маркеры на карту для каждой точки происхождения и точки назначения, используя столбцы Origin Geometry и Destination Geometry из нашего DataFrame. Для этого мы перебираем списки точек в каждом столбце и добавляем маркеры на карту с помощью folium.Marker. Маркеры происхождения обозначены красным цветом, а маркеры назначения - синим цветом."
   ]
  },
  {
   "cell_type": "markdown",
   "id": "d56fb552",
   "metadata": {},
   "source": [
    "Используемые библиотеки позволяют нам работать с географическими данными, создавать интерактивные карты и визуализировать данные на них."
   ]
  },
  {
   "cell_type": "code",
   "execution_count": 17,
   "id": "2dee4c96",
   "metadata": {},
   "outputs": [],
   "source": [
    "new_df['Mean Travel Time (Seconds)'] = df['Mean Travel Time (Seconds)']\n",
    "\n"
   ]
  },
  {
   "cell_type": "code",
   "execution_count": 18,
   "id": "ad20104c",
   "metadata": {},
   "outputs": [
    {
     "name": "stdout",
     "output_type": "stream",
     "text": [
      "<class 'pandas.core.frame.DataFrame'>\n",
      "RangeIndex: 506 entries, 0 to 505\n",
      "Data columns (total 3 columns):\n",
      " #   Column                      Non-Null Count  Dtype \n",
      "---  ------                      --------------  ----- \n",
      " 0   Origin Geometry             506 non-null    object\n",
      " 1   Destination Geometry        506 non-null    object\n",
      " 2   Mean Travel Time (Seconds)  506 non-null    int64 \n",
      "dtypes: int64(1), object(2)\n",
      "memory usage: 12.0+ KB\n",
      "None\n"
     ]
    }
   ],
   "source": [
    "print(new_df.info())\n"
   ]
  },
  {
   "cell_type": "code",
   "execution_count": 19,
   "id": "df1ef88f",
   "metadata": {},
   "outputs": [
    {
     "name": "stdout",
     "output_type": "stream",
     "text": [
      "                                       Origin Geometry  \\\n",
      "0    [POINT (151.20528 -33.86874), POINT (151.20604...   \n",
      "1    [POINT (151.20528 -33.86874), POINT (151.20604...   \n",
      "2    [POINT (151.20528 -33.86874), POINT (151.20604...   \n",
      "3    [POINT (151.20528 -33.86874), POINT (151.20604...   \n",
      "4    [POINT (151.20528 -33.86874), POINT (151.20604...   \n",
      "..                                                 ...   \n",
      "501  [POINT (151.20528 -33.86874), POINT (151.20604...   \n",
      "502  [POINT (151.20528 -33.86874), POINT (151.20604...   \n",
      "503  [POINT (151.20528 -33.86874), POINT (151.20604...   \n",
      "504  [POINT (151.20528 -33.86874), POINT (151.20604...   \n",
      "505  [POINT (151.20528 -33.86874), POINT (151.20604...   \n",
      "\n",
      "                                  Destination Geometry  \\\n",
      "0    [POINT (150.98016 -33.75661), POINT (150.98118...   \n",
      "1    [POINT (150.98151 -33.76267), POINT (150.98712...   \n",
      "2    [POINT (150.99015 -33.75916), POINT (150.98964...   \n",
      "3    [POINT (150.9914 -33.76266), POINT (150.99094 ...   \n",
      "4    [POINT (150.9562 -33.7573), POINT (150.95862 -...   \n",
      "..                                                 ...   \n",
      "501  [POINT (151.12013 -34.02833), POINT (151.12092...   \n",
      "502  [POINT (151.1055 -34.0299), POINT (151.1143 -3...   \n",
      "503  [POINT (151.10691 -34.02413), POINT (151.10878...   \n",
      "504  [POINT (151.12092 -34.0243), POINT (151.11792 ...   \n",
      "505  [POINT (151.12668 -34.02605), POINT (151.12684...   \n",
      "\n",
      "     Mean Travel Time (Seconds)  \n",
      "0                          1833  \n",
      "1                          1782  \n",
      "2                          1784  \n",
      "3                          1906  \n",
      "4                          1974  \n",
      "..                          ...  \n",
      "501                        1864  \n",
      "502                        2258  \n",
      "503                        1951  \n",
      "504                        1869  \n",
      "505                        1910  \n",
      "\n",
      "[506 rows x 3 columns]\n"
     ]
    }
   ],
   "source": [
    "print(new_df)\n"
   ]
  },
  {
   "cell_type": "code",
   "execution_count": 20,
   "id": "120d8471",
   "metadata": {},
   "outputs": [
    {
     "name": "stdout",
     "output_type": "stream",
     "text": [
      "<class 'pandas.core.frame.DataFrame'>\n",
      "RangeIndex: 506 entries, 0 to 505\n",
      "Data columns (total 3 columns):\n",
      " #   Column                      Non-Null Count  Dtype \n",
      "---  ------                      --------------  ----- \n",
      " 0   Origin Geometry             506 non-null    object\n",
      " 1   Destination Geometry        506 non-null    object\n",
      " 2   Mean Travel Time (Seconds)  506 non-null    int64 \n",
      "dtypes: int64(1), object(2)\n",
      "memory usage: 12.0+ KB\n"
     ]
    }
   ],
   "source": [
    "new_df.info()"
   ]
  },
  {
   "cell_type": "code",
   "execution_count": 21,
   "id": "5da54371",
   "metadata": {},
   "outputs": [
    {
     "data": {
      "image/png": "[encoded data removed]",
      "text/plain": [
       "<Figure size 640x480 with 1 Axes>"
      ]
     },
     "metadata": {},
     "output_type": "display_data"
    },
    {
     "data": {
      "image/png": "[encoded data removed]",
      "text/plain": [
       "<Figure size 640x480 with 1 Axes>"
      ]
     },
     "metadata": {},
     "output_type": "display_data"
    }
   ],
   "source": [
    "import matplotlib.pyplot as plt\n",
    "\n",
    "# Создание гистограммы времени поездки\n",
    "plt.hist(new_df['Mean Travel Time (Seconds)'], bins=10)\n",
    "plt.xlabel('Время поездки (секунды)')\n",
    "plt.ylabel('Частота')\n",
    "plt.title('Распределение времени поездки')\n",
    "plt.show()\n",
    "\n",
    "# Создание графика плотности времени поездки\n",
    "new_df['Mean Travel Time (Seconds)'].plot(kind='density')\n",
    "plt.xlabel('Время поездки (секунды)')\n",
    "plt.ylabel('Плотность')\n",
    "plt.title('График плотности времени поездки')\n",
    "plt.show()\n"
   ]
  },
  {
   "cell_type": "markdown",
   "id": "b34fe235",
   "metadata": {},
   "source": [
    "1. Создаем новые столбцы 'Origin Latitude', 'Origin Longitude', 'Destination Latitude', 'Destination Longitude', которые будут содержать координаты широты и долготы для начальной и конечной точек соответственно.\n",
    "\n",
    "2. Мы применяем метод apply к столбцам 'Origin Geometry' и 'Destination Geometry', чтобы преобразовать список точек в координаты широты и долготы. Для каждой точки в списке мы используем функцию Point из библиотеки Shapely для создания геометрического объекта и затем извлекаем координаты широты и долготы.\n",
    "\n",
    "3. Выводим обновленный DataFrame, содержащий столбцы с извлеченными координатами 'Origin Latitude', 'Origin Longitude', 'Destination Latitude', 'Destination Longitude'."
   ]
  },
  {
   "cell_type": "code",
   "execution_count": 22,
   "id": "360982ba",
   "metadata": {},
   "outputs": [
    {
     "name": "stdout",
     "output_type": "stream",
     "text": [
      "                                       Origin Latitude  \\\n",
      "0    [-33.86874, -33.86868, -33.87084, -33.87088, -...   \n",
      "1    [-33.86874, -33.86868, -33.87084, -33.87088, -...   \n",
      "2    [-33.86874, -33.86868, -33.87084, -33.87088, -...   \n",
      "3    [-33.86874, -33.86868, -33.87084, -33.87088, -...   \n",
      "4    [-33.86874, -33.86868, -33.87084, -33.87088, -...   \n",
      "..                                                 ...   \n",
      "501  [-33.86874, -33.86868, -33.87084, -33.87088, -...   \n",
      "502  [-33.86874, -33.86868, -33.87084, -33.87088, -...   \n",
      "503  [-33.86874, -33.86868, -33.87084, -33.87088, -...   \n",
      "504  [-33.86874, -33.86868, -33.87084, -33.87088, -...   \n",
      "505  [-33.86874, -33.86868, -33.87084, -33.87088, -...   \n",
      "\n",
      "                                      Origin Longitude  \\\n",
      "0    [151.20528, 151.20604, 151.20631, 151.20553, 1...   \n",
      "1    [151.20528, 151.20604, 151.20631, 151.20553, 1...   \n",
      "2    [151.20528, 151.20604, 151.20631, 151.20553, 1...   \n",
      "3    [151.20528, 151.20604, 151.20631, 151.20553, 1...   \n",
      "4    [151.20528, 151.20604, 151.20631, 151.20553, 1...   \n",
      "..                                                 ...   \n",
      "501  [151.20528, 151.20604, 151.20631, 151.20553, 1...   \n",
      "502  [151.20528, 151.20604, 151.20631, 151.20553, 1...   \n",
      "503  [151.20528, 151.20604, 151.20631, 151.20553, 1...   \n",
      "504  [151.20528, 151.20604, 151.20631, 151.20553, 1...   \n",
      "505  [151.20528, 151.20604, 151.20631, 151.20553, 1...   \n",
      "\n",
      "                                  Destination Latitude  \\\n",
      "0    [-33.75661, -33.75797, -33.75987, -33.76267, -...   \n",
      "1    [-33.76267, -33.76256, -33.76287, -33.7624, -3...   \n",
      "2    [-33.75916, -33.75809, -33.75655, -33.75567, -...   \n",
      "3    [-33.76266, -33.76218, -33.76166, -33.76119, -...   \n",
      "4    [-33.7573, -33.75413, -33.7539, -33.75422, -33...   \n",
      "..                                                 ...   \n",
      "501  [-34.02833, -34.0243, -34.02515, -34.03456, -3...   \n",
      "502  [-34.0299, -34.03114, -34.0353, -34.0386, -34....   \n",
      "503  [-34.02413, -34.02446, -34.02557, -34.02495, -...   \n",
      "504  [-34.0243, -34.02377, -34.02222, -34.02354, -3...   \n",
      "505  [-34.02605, -34.02515, -34.0243, -34.01908, -3...   \n",
      "\n",
      "                                 Destination Longitude  \n",
      "0    [150.98016, 150.98118, 150.9815, 150.98151, 15...  \n",
      "1    [150.98151, 150.98712, 150.99063, 150.99203, 1...  \n",
      "2    [150.99015, 150.98964, 150.98956, 150.98972, 1...  \n",
      "3    [150.9914, 150.99094, 150.99155, 150.99112, 15...  \n",
      "4    [150.9562, 150.95862, 150.95942, 150.96026, 15...  \n",
      "..                                                 ...  \n",
      "501  [151.12013, 151.12092, 151.12684, 151.12514, 1...  \n",
      "502  [151.1055, 151.1143, 151.11343, 151.11253, 151...  \n",
      "503  [151.10691, 151.10878, 151.1087, 151.11283, 15...  \n",
      "504  [151.12092, 151.11792, 151.1176, 151.11623, 15...  \n",
      "505  [151.12668, 151.12684, 151.12092, 151.12191, 1...  \n",
      "\n",
      "[506 rows x 4 columns]\n"
     ]
    }
   ],
   "source": [
    "from shapely.geometry import Point\n",
    "\n",
    "# Создание новых столбцов с координатами широты и долготы для начальной точки\n",
    "new_df['Origin Latitude'] = new_df['Origin Geometry'].apply(lambda point_list: [Point(point).y for point in point_list])\n",
    "new_df['Origin Longitude'] = new_df['Origin Geometry'].apply(lambda point_list: [Point(point).x for point in point_list])\n",
    "\n",
    "# Создание новых столбцов с координатами широты и долготы для конечной точки\n",
    "new_df['Destination Latitude'] = new_df['Destination Geometry'].apply(lambda point_list: [Point(point).y for point in point_list])\n",
    "new_df['Destination Longitude'] = new_df['Destination Geometry'].apply(lambda point_list: [Point(point).x for point in point_list])\n",
    "\n",
    "# Вывод обновленного DataFrame с извлеченными координатами\n",
    "print(new_df[['Origin Latitude', 'Origin Longitude', 'Destination Latitude', 'Destination Longitude']])\n"
   ]
  },
  {
   "cell_type": "code",
   "execution_count": 23,
   "id": "fe618536",
   "metadata": {},
   "outputs": [],
   "source": [
    "new_df = new_df.drop(['Origin Geometry', 'Destination Geometry'], axis=1)\n"
   ]
  },
  {
   "cell_type": "code",
   "execution_count": 24,
   "id": "657207b8",
   "metadata": {},
   "outputs": [
    {
     "data": {
      "text/html": [
       "<div>\n",
       "<style scoped>\n",
       "    .dataframe tbody tr th:only-of-type {\n",
       "        vertical-align: middle;\n",
       "    }\n",
       "\n",
       "    .dataframe tbody tr th {\n",
       "        vertical-align: top;\n",
       "    }\n",
       "\n",
       "    .dataframe thead th {\n",
       "        text-align: right;\n",
       "    }\n",
       "</style>\n",
       "<table border=\"1\" class=\"dataframe\">\n",
       "  <thead>\n",
       "    <tr style=\"text-align: right;\">\n",
       "      <th></th>\n",
       "      <th>Mean Travel Time (Seconds)</th>\n",
       "      <th>Origin Latitude</th>\n",
       "      <th>Origin Longitude</th>\n",
       "      <th>Destination Latitude</th>\n",
       "      <th>Destination Longitude</th>\n",
       "    </tr>\n",
       "  </thead>\n",
       "  <tbody>\n",
       "    <tr>\n",
       "      <th>0</th>\n",
       "      <td>1833</td>\n",
       "      <td>[-33.86874, -33.86868, -33.87084, -33.87088, -...</td>\n",
       "      <td>[151.20528, 151.20604, 151.20631, 151.20553, 1...</td>\n",
       "      <td>[-33.75661, -33.75797, -33.75987, -33.76267, -...</td>\n",
       "      <td>[150.98016, 150.98118, 150.9815, 150.98151, 15...</td>\n",
       "    </tr>\n",
       "    <tr>\n",
       "      <th>1</th>\n",
       "      <td>1782</td>\n",
       "      <td>[-33.86874, -33.86868, -33.87084, -33.87088, -...</td>\n",
       "      <td>[151.20528, 151.20604, 151.20631, 151.20553, 1...</td>\n",
       "      <td>[-33.76267, -33.76256, -33.76287, -33.7624, -3...</td>\n",
       "      <td>[150.98151, 150.98712, 150.99063, 150.99203, 1...</td>\n",
       "    </tr>\n",
       "    <tr>\n",
       "      <th>2</th>\n",
       "      <td>1784</td>\n",
       "      <td>[-33.86874, -33.86868, -33.87084, -33.87088, -...</td>\n",
       "      <td>[151.20528, 151.20604, 151.20631, 151.20553, 1...</td>\n",
       "      <td>[-33.75916, -33.75809, -33.75655, -33.75567, -...</td>\n",
       "      <td>[150.99015, 150.98964, 150.98956, 150.98972, 1...</td>\n",
       "    </tr>\n",
       "    <tr>\n",
       "      <th>3</th>\n",
       "      <td>1906</td>\n",
       "      <td>[-33.86874, -33.86868, -33.87084, -33.87088, -...</td>\n",
       "      <td>[151.20528, 151.20604, 151.20631, 151.20553, 1...</td>\n",
       "      <td>[-33.76266, -33.76218, -33.76166, -33.76119, -...</td>\n",
       "      <td>[150.9914, 150.99094, 150.99155, 150.99112, 15...</td>\n",
       "    </tr>\n",
       "    <tr>\n",
       "      <th>4</th>\n",
       "      <td>1974</td>\n",
       "      <td>[-33.86874, -33.86868, -33.87084, -33.87088, -...</td>\n",
       "      <td>[151.20528, 151.20604, 151.20631, 151.20553, 1...</td>\n",
       "      <td>[-33.7573, -33.75413, -33.7539, -33.75422, -33...</td>\n",
       "      <td>[150.9562, 150.95862, 150.95942, 150.96026, 15...</td>\n",
       "    </tr>\n",
       "  </tbody>\n",
       "</table>\n",
       "</div>"
      ],
      "text/plain": [
       "   Mean Travel Time (Seconds)  \\\n",
       "0                        1833   \n",
       "1                        1782   \n",
       "2                        1784   \n",
       "3                        1906   \n",
       "4                        1974   \n",
       "\n",
       "                                     Origin Latitude  \\\n",
       "0  [-33.86874, -33.86868, -33.87084, -33.87088, -...   \n",
       "1  [-33.86874, -33.86868, -33.87084, -33.87088, -...   \n",
       "2  [-33.86874, -33.86868, -33.87084, -33.87088, -...   \n",
       "3  [-33.86874, -33.86868, -33.87084, -33.87088, -...   \n",
       "4  [-33.86874, -33.86868, -33.87084, -33.87088, -...   \n",
       "\n",
       "                                    Origin Longitude  \\\n",
       "0  [151.20528, 151.20604, 151.20631, 151.20553, 1...   \n",
       "1  [151.20528, 151.20604, 151.20631, 151.20553, 1...   \n",
       "2  [151.20528, 151.20604, 151.20631, 151.20553, 1...   \n",
       "3  [151.20528, 151.20604, 151.20631, 151.20553, 1...   \n",
       "4  [151.20528, 151.20604, 151.20631, 151.20553, 1...   \n",
       "\n",
       "                                Destination Latitude  \\\n",
       "0  [-33.75661, -33.75797, -33.75987, -33.76267, -...   \n",
       "1  [-33.76267, -33.76256, -33.76287, -33.7624, -3...   \n",
       "2  [-33.75916, -33.75809, -33.75655, -33.75567, -...   \n",
       "3  [-33.76266, -33.76218, -33.76166, -33.76119, -...   \n",
       "4  [-33.7573, -33.75413, -33.7539, -33.75422, -33...   \n",
       "\n",
       "                               Destination Longitude  \n",
       "0  [150.98016, 150.98118, 150.9815, 150.98151, 15...  \n",
       "1  [150.98151, 150.98712, 150.99063, 150.99203, 1...  \n",
       "2  [150.99015, 150.98964, 150.98956, 150.98972, 1...  \n",
       "3  [150.9914, 150.99094, 150.99155, 150.99112, 15...  \n",
       "4  [150.9562, 150.95862, 150.95942, 150.96026, 15...  "
      ]
     },
     "execution_count": 24,
     "metadata": {},
     "output_type": "execute_result"
    }
   ],
   "source": [
    "new_df.head()"
   ]
  },
  {
   "cell_type": "code",
   "execution_count": 25,
   "id": "6edaa29e",
   "metadata": {},
   "outputs": [
    {
     "data": {
      "image/png": "[encoded data removed]",
      "text/plain": [
       "<Figure size 1000x600 with 1 Axes>"
      ]
     },
     "metadata": {},
     "output_type": "display_data"
    }
   ],
   "source": [
    "import matplotlib.pyplot as plt\n",
    "\n",
    "# Создание графика\n",
    "plt.figure(figsize=(10, 6))\n",
    "\n",
    "# Отображение точек отправления\n",
    "origin_latitudes = [lat for coords in new_df['Origin Latitude'] for lat in coords]\n",
    "origin_longitudes = [lon for coords in new_df['Origin Longitude'] for lon in coords]\n",
    "plt.scatter(origin_longitudes, origin_latitudes, color='blue', label='Origin', s=2)  # Установка размера точек\n",
    "\n",
    "# Отображение точек назначения\n",
    "dest_latitudes = [lat for coords in new_df['Destination Latitude'] for lat in coords]\n",
    "dest_longitudes = [lon for coords in new_df['Destination Longitude'] for lon in coords]\n",
    "plt.scatter(dest_longitudes, dest_latitudes, color='red', label='Destination', s=2)  # Установка размера точек\n",
    "\n",
    "# Настройка внешнего вида карты\n",
    "plt.title('Trip Points on Map')\n",
    "plt.xlabel('Longitude')\n",
    "plt.ylabel('Latitude')\n",
    "plt.legend()\n",
    "\n",
    "# Отображение графика\n",
    "plt.show()\n"
   ]
  },
  {
   "cell_type": "code",
   "execution_count": 26,
   "id": "081c542c",
   "metadata": {},
   "outputs": [
    {
     "name": "stdout",
     "output_type": "stream",
     "text": [
      "Столбец 'Origin Latitude' содержит списки: True\n",
      "Столбец 'Origin Longitude' содержит списки: True\n",
      "Столбец 'Destination Latitude' содержит списки: True\n",
      "Столбец 'Destination Longitude' содержит списки: True\n"
     ]
    }
   ],
   "source": [
    "import pandas as pd\n",
    "\n",
    "# Проверка столбцов на наличие списков\n",
    "origin_lat_lists = new_df['Origin Latitude'].apply(lambda x: isinstance(x, list))\n",
    "origin_lon_lists = new_df['Origin Longitude'].apply(lambda x: isinstance(x, list))\n",
    "dest_lat_lists = new_df['Destination Latitude'].apply(lambda x: isinstance(x, list))\n",
    "dest_lon_lists = new_df['Destination Longitude'].apply(lambda x: isinstance(x, list))\n",
    "\n",
    "# Вывод информации о наличии списков в столбцах\n",
    "print(\"Столбец 'Origin Latitude' содержит списки:\", any(origin_lat_lists))\n",
    "print(\"Столбец 'Origin Longitude' содержит списки:\", any(origin_lon_lists))\n",
    "print(\"Столбец 'Destination Latitude' содержит списки:\", any(dest_lat_lists))\n",
    "print(\"Столбец 'Destination Longitude' содержит списки:\", any(dest_lon_lists))\n"
   ]
  },
  {
   "cell_type": "code",
   "execution_count": 27,
   "id": "ac49391b",
   "metadata": {},
   "outputs": [
    {
     "name": "stdout",
     "output_type": "stream",
     "text": [
      "Столбец 'Origin Latitude' содержит списки: False\n",
      "Столбец 'Origin Longitude' содержит списки: False\n",
      "Столбец 'Destination Latitude' содержит списки: False\n",
      "Столбец 'Destination Longitude' содержит списки: False\n"
     ]
    }
   ],
   "source": [
    "import pandas as pd\n",
    "\n",
    "# Преобразование списков в отдельные значения\n",
    "new_df['Origin Latitude'] = new_df['Origin Latitude'].apply(lambda x: x[0] if isinstance(x, list) else x)\n",
    "new_df['Origin Longitude'] = new_df['Origin Longitude'].apply(lambda x: x[0] if isinstance(x, list) else x)\n",
    "new_df['Destination Latitude'] = new_df['Destination Latitude'].apply(lambda x: x[0] if isinstance(x, list) else x)\n",
    "new_df['Destination Longitude'] = new_df['Destination Longitude'].apply(lambda x: x[0] if isinstance(x, list) else x)\n",
    "\n",
    "# Проверка столбцов после преобразования\n",
    "origin_lat_lists = new_df['Origin Latitude'].apply(lambda x: isinstance(x, list))\n",
    "origin_lon_lists = new_df['Origin Longitude'].apply(lambda x: isinstance(x, list))\n",
    "dest_lat_lists = new_df['Destination Latitude'].apply(lambda x: isinstance(x, list))\n",
    "dest_lon_lists = new_df['Destination Longitude'].apply(lambda x: isinstance(x, list))\n",
    "\n",
    "# Вывод информации о наличии списков в столбцах после преобразования\n",
    "print(\"Столбец 'Origin Latitude' содержит списки:\", any(origin_lat_lists))\n",
    "print(\"Столбец 'Origin Longitude' содержит списки:\", any(origin_lon_lists))\n",
    "print(\"Столбец 'Destination Latitude' содержит списки:\", any(dest_lat_lists))\n",
    "print(\"Столбец 'Destination Longitude' содержит списки:\", any(dest_lon_lists))\n"
   ]
  },
  {
   "cell_type": "markdown",
   "id": "361d6e53",
   "metadata": {},
   "source": [
    "Вычисляем расстояние между точками отправления и назначения на основе их координат, используя библиотеку geopy. Результаты вычислений сохраняются в новом столбце \"Distance\" в датафрейме new_df."
   ]
  },
  {
   "cell_type": "code",
   "execution_count": 28,
   "id": "dc78d53c",
   "metadata": {},
   "outputs": [],
   "source": [
    "import numpy as np\n",
    "from geopy.distance import geodesic\n",
    "\n",
    "# Создание столбца \"Distance\" в датафрейме с пустыми значениями\n",
    "new_df['Distance'] = np.nan\n",
    "\n",
    "# Заполнение столбца \"Distance\" с помощью цикла\n",
    "for i, row in new_df.iterrows():\n",
    "    origin_lat = row['Origin Latitude']\n",
    "    origin_lon = row['Origin Longitude']\n",
    "    dest_lat = row['Destination Latitude']\n",
    "    dest_lon = row['Destination Longitude']\n",
    "    \n",
    "    origin_point = (origin_lat, origin_lon)\n",
    "    dest_point = (dest_lat, dest_lon)\n",
    "    distance = geodesic(origin_point, dest_point).kilometers\n",
    "    \n",
    "    new_df.at[i, 'Distance'] = distance\n",
    "\n",
    "# Округление столбца \"Distance\" до 2 знаков после запятой\n",
    "new_df['Distance'] = new_df['Distance'].round(decimals=2)\n"
   ]
  },
  {
   "cell_type": "code",
   "execution_count": 29,
   "id": "c57c4e33",
   "metadata": {},
   "outputs": [
    {
     "data": {
      "text/html": [
       "<div>\n",
       "<style scoped>\n",
       "    .dataframe tbody tr th:only-of-type {\n",
       "        vertical-align: middle;\n",
       "    }\n",
       "\n",
       "    .dataframe tbody tr th {\n",
       "        vertical-align: top;\n",
       "    }\n",
       "\n",
       "    .dataframe thead th {\n",
       "        text-align: right;\n",
       "    }\n",
       "</style>\n",
       "<table border=\"1\" class=\"dataframe\">\n",
       "  <thead>\n",
       "    <tr style=\"text-align: right;\">\n",
       "      <th></th>\n",
       "      <th>Mean Travel Time (Seconds)</th>\n",
       "      <th>Origin Latitude</th>\n",
       "      <th>Origin Longitude</th>\n",
       "      <th>Destination Latitude</th>\n",
       "      <th>Destination Longitude</th>\n",
       "      <th>Distance</th>\n",
       "    </tr>\n",
       "  </thead>\n",
       "  <tbody>\n",
       "    <tr>\n",
       "      <th>0</th>\n",
       "      <td>1833</td>\n",
       "      <td>-33.86874</td>\n",
       "      <td>151.20528</td>\n",
       "      <td>-33.75661</td>\n",
       "      <td>150.98016</td>\n",
       "      <td>24.27</td>\n",
       "    </tr>\n",
       "    <tr>\n",
       "      <th>1</th>\n",
       "      <td>1782</td>\n",
       "      <td>-33.86874</td>\n",
       "      <td>151.20528</td>\n",
       "      <td>-33.76267</td>\n",
       "      <td>150.98151</td>\n",
       "      <td>23.83</td>\n",
       "    </tr>\n",
       "    <tr>\n",
       "      <th>2</th>\n",
       "      <td>1784</td>\n",
       "      <td>-33.86874</td>\n",
       "      <td>151.20528</td>\n",
       "      <td>-33.75916</td>\n",
       "      <td>150.99015</td>\n",
       "      <td>23.33</td>\n",
       "    </tr>\n",
       "    <tr>\n",
       "      <th>3</th>\n",
       "      <td>1906</td>\n",
       "      <td>-33.86874</td>\n",
       "      <td>151.20528</td>\n",
       "      <td>-33.76266</td>\n",
       "      <td>150.99140</td>\n",
       "      <td>23.03</td>\n",
       "    </tr>\n",
       "    <tr>\n",
       "      <th>4</th>\n",
       "      <td>1974</td>\n",
       "      <td>-33.86874</td>\n",
       "      <td>151.20528</td>\n",
       "      <td>-33.75730</td>\n",
       "      <td>150.95620</td>\n",
       "      <td>26.17</td>\n",
       "    </tr>\n",
       "  </tbody>\n",
       "</table>\n",
       "</div>"
      ],
      "text/plain": [
       "   Mean Travel Time (Seconds)  Origin Latitude  Origin Longitude  \\\n",
       "0                        1833        -33.86874         151.20528   \n",
       "1                        1782        -33.86874         151.20528   \n",
       "2                        1784        -33.86874         151.20528   \n",
       "3                        1906        -33.86874         151.20528   \n",
       "4                        1974        -33.86874         151.20528   \n",
       "\n",
       "   Destination Latitude  Destination Longitude  Distance  \n",
       "0             -33.75661              150.98016     24.27  \n",
       "1             -33.76267              150.98151     23.83  \n",
       "2             -33.75916              150.99015     23.33  \n",
       "3             -33.76266              150.99140     23.03  \n",
       "4             -33.75730              150.95620     26.17  "
      ]
     },
     "execution_count": 29,
     "metadata": {},
     "output_type": "execute_result"
    }
   ],
   "source": [
    "new_df.head()"
   ]
  },
  {
   "cell_type": "code",
   "execution_count": 30,
   "id": "cb041b88",
   "metadata": {},
   "outputs": [],
   "source": [
    "new_df['Mean Travel Time (Minutes)'] = new_df['Mean Travel Time (Seconds)'] / 60\n",
    "new_df['Mean Travel Time (Minutes)'] = new_df['Mean Travel Time (Minutes)'].round(2)\n"
   ]
  },
  {
   "cell_type": "code",
   "execution_count": 31,
   "id": "3dee8aad",
   "metadata": {},
   "outputs": [],
   "source": [
    "new_df.drop('Mean Travel Time (Seconds)', axis=1, inplace=True)\n"
   ]
  },
  {
   "cell_type": "code",
   "execution_count": 32,
   "id": "a298ed76",
   "metadata": {},
   "outputs": [
    {
     "data": {
      "text/html": [
       "<div>\n",
       "<style scoped>\n",
       "    .dataframe tbody tr th:only-of-type {\n",
       "        vertical-align: middle;\n",
       "    }\n",
       "\n",
       "    .dataframe tbody tr th {\n",
       "        vertical-align: top;\n",
       "    }\n",
       "\n",
       "    .dataframe thead th {\n",
       "        text-align: right;\n",
       "    }\n",
       "</style>\n",
       "<table border=\"1\" class=\"dataframe\">\n",
       "  <thead>\n",
       "    <tr style=\"text-align: right;\">\n",
       "      <th></th>\n",
       "      <th>Origin Latitude</th>\n",
       "      <th>Origin Longitude</th>\n",
       "      <th>Destination Latitude</th>\n",
       "      <th>Destination Longitude</th>\n",
       "      <th>Distance</th>\n",
       "      <th>Mean Travel Time (Minutes)</th>\n",
       "    </tr>\n",
       "  </thead>\n",
       "  <tbody>\n",
       "    <tr>\n",
       "      <th>0</th>\n",
       "      <td>-33.86874</td>\n",
       "      <td>151.20528</td>\n",
       "      <td>-33.75661</td>\n",
       "      <td>150.98016</td>\n",
       "      <td>24.27</td>\n",
       "      <td>30.55</td>\n",
       "    </tr>\n",
       "    <tr>\n",
       "      <th>1</th>\n",
       "      <td>-33.86874</td>\n",
       "      <td>151.20528</td>\n",
       "      <td>-33.76267</td>\n",
       "      <td>150.98151</td>\n",
       "      <td>23.83</td>\n",
       "      <td>29.70</td>\n",
       "    </tr>\n",
       "    <tr>\n",
       "      <th>2</th>\n",
       "      <td>-33.86874</td>\n",
       "      <td>151.20528</td>\n",
       "      <td>-33.75916</td>\n",
       "      <td>150.99015</td>\n",
       "      <td>23.33</td>\n",
       "      <td>29.73</td>\n",
       "    </tr>\n",
       "    <tr>\n",
       "      <th>3</th>\n",
       "      <td>-33.86874</td>\n",
       "      <td>151.20528</td>\n",
       "      <td>-33.76266</td>\n",
       "      <td>150.99140</td>\n",
       "      <td>23.03</td>\n",
       "      <td>31.77</td>\n",
       "    </tr>\n",
       "    <tr>\n",
       "      <th>4</th>\n",
       "      <td>-33.86874</td>\n",
       "      <td>151.20528</td>\n",
       "      <td>-33.75730</td>\n",
       "      <td>150.95620</td>\n",
       "      <td>26.17</td>\n",
       "      <td>32.90</td>\n",
       "    </tr>\n",
       "  </tbody>\n",
       "</table>\n",
       "</div>"
      ],
      "text/plain": [
       "   Origin Latitude  Origin Longitude  Destination Latitude  \\\n",
       "0        -33.86874         151.20528             -33.75661   \n",
       "1        -33.86874         151.20528             -33.76267   \n",
       "2        -33.86874         151.20528             -33.75916   \n",
       "3        -33.86874         151.20528             -33.76266   \n",
       "4        -33.86874         151.20528             -33.75730   \n",
       "\n",
       "   Destination Longitude  Distance  Mean Travel Time (Minutes)  \n",
       "0              150.98016     24.27                       30.55  \n",
       "1              150.98151     23.83                       29.70  \n",
       "2              150.99015     23.33                       29.73  \n",
       "3              150.99140     23.03                       31.77  \n",
       "4              150.95620     26.17                       32.90  "
      ]
     },
     "execution_count": 32,
     "metadata": {},
     "output_type": "execute_result"
    }
   ],
   "source": [
    "new_df.head()"
   ]
  },
  {
   "cell_type": "markdown",
   "id": "41fc9c74",
   "metadata": {},
   "source": [
    "График диаграммы рассеяния позволяет наглядно исследовать взаимосвязь между двумя переменными. Он позволяет увидеть, как изменяется среднее время путешествия в зависимости от расстояния. "
   ]
  },
  {
   "cell_type": "code",
   "execution_count": 33,
   "id": "9439b4c9",
   "metadata": {},
   "outputs": [
    {
     "data": {
      "image/png": "[encoded data removed]",
      "text/plain": [
       "<Figure size 640x480 with 1 Axes>"
      ]
     },
     "metadata": {},
     "output_type": "display_data"
    }
   ],
   "source": [
    "import matplotlib.pyplot as plt\n",
    "\n",
    "# Создание графика диаграммы рассеяния\n",
    "plt.scatter(new_df['Distance'], new_df['Mean Travel Time (Minutes)'])\n",
    "\n",
    "# Настройка осей и заголовка\n",
    "plt.xlabel('Distance')\n",
    "plt.ylabel('Mean Travel Time (Minutes)')\n",
    "plt.title('Scatter Plot - Distance vs Mean Travel Time')\n",
    "\n",
    "# Отображение графика\n",
    "plt.show()\n"
   ]
  },
  {
   "cell_type": "code",
   "execution_count": 34,
   "id": "fbcd0e00",
   "metadata": {},
   "outputs": [],
   "source": [
    "new_df['Average speed'] = (new_df['Distance'] / new_df['Mean Travel Time (Minutes)']) * 60\n",
    "new_df['Average speed'] = new_df['Average speed'].astype(int)\n"
   ]
  },
  {
   "cell_type": "code",
   "execution_count": 35,
   "id": "b81e38fb",
   "metadata": {},
   "outputs": [
    {
     "data": {
      "text/html": [
       "<div>\n",
       "<style scoped>\n",
       "    .dataframe tbody tr th:only-of-type {\n",
       "        vertical-align: middle;\n",
       "    }\n",
       "\n",
       "    .dataframe tbody tr th {\n",
       "        vertical-align: top;\n",
       "    }\n",
       "\n",
       "    .dataframe thead th {\n",
       "        text-align: right;\n",
       "    }\n",
       "</style>\n",
       "<table border=\"1\" class=\"dataframe\">\n",
       "  <thead>\n",
       "    <tr style=\"text-align: right;\">\n",
       "      <th></th>\n",
       "      <th>Origin Latitude</th>\n",
       "      <th>Origin Longitude</th>\n",
       "      <th>Destination Latitude</th>\n",
       "      <th>Destination Longitude</th>\n",
       "      <th>Distance</th>\n",
       "      <th>Mean Travel Time (Minutes)</th>\n",
       "      <th>Average speed</th>\n",
       "    </tr>\n",
       "  </thead>\n",
       "  <tbody>\n",
       "    <tr>\n",
       "      <th>0</th>\n",
       "      <td>-33.86874</td>\n",
       "      <td>151.20528</td>\n",
       "      <td>-33.75661</td>\n",
       "      <td>150.98016</td>\n",
       "      <td>24.27</td>\n",
       "      <td>30.55</td>\n",
       "      <td>47</td>\n",
       "    </tr>\n",
       "    <tr>\n",
       "      <th>1</th>\n",
       "      <td>-33.86874</td>\n",
       "      <td>151.20528</td>\n",
       "      <td>-33.76267</td>\n",
       "      <td>150.98151</td>\n",
       "      <td>23.83</td>\n",
       "      <td>29.70</td>\n",
       "      <td>48</td>\n",
       "    </tr>\n",
       "    <tr>\n",
       "      <th>2</th>\n",
       "      <td>-33.86874</td>\n",
       "      <td>151.20528</td>\n",
       "      <td>-33.75916</td>\n",
       "      <td>150.99015</td>\n",
       "      <td>23.33</td>\n",
       "      <td>29.73</td>\n",
       "      <td>47</td>\n",
       "    </tr>\n",
       "    <tr>\n",
       "      <th>3</th>\n",
       "      <td>-33.86874</td>\n",
       "      <td>151.20528</td>\n",
       "      <td>-33.76266</td>\n",
       "      <td>150.99140</td>\n",
       "      <td>23.03</td>\n",
       "      <td>31.77</td>\n",
       "      <td>43</td>\n",
       "    </tr>\n",
       "    <tr>\n",
       "      <th>4</th>\n",
       "      <td>-33.86874</td>\n",
       "      <td>151.20528</td>\n",
       "      <td>-33.75730</td>\n",
       "      <td>150.95620</td>\n",
       "      <td>26.17</td>\n",
       "      <td>32.90</td>\n",
       "      <td>47</td>\n",
       "    </tr>\n",
       "  </tbody>\n",
       "</table>\n",
       "</div>"
      ],
      "text/plain": [
       "   Origin Latitude  Origin Longitude  Destination Latitude  \\\n",
       "0        -33.86874         151.20528             -33.75661   \n",
       "1        -33.86874         151.20528             -33.76267   \n",
       "2        -33.86874         151.20528             -33.75916   \n",
       "3        -33.86874         151.20528             -33.76266   \n",
       "4        -33.86874         151.20528             -33.75730   \n",
       "\n",
       "   Destination Longitude  Distance  Mean Travel Time (Minutes)  Average speed  \n",
       "0              150.98016     24.27                       30.55             47  \n",
       "1              150.98151     23.83                       29.70             48  \n",
       "2              150.99015     23.33                       29.73             47  \n",
       "3              150.99140     23.03                       31.77             43  \n",
       "4              150.95620     26.17                       32.90             47  "
      ]
     },
     "execution_count": 35,
     "metadata": {},
     "output_type": "execute_result"
    }
   ],
   "source": [
    "new_df.head()"
   ]
  },
  {
   "cell_type": "code",
   "execution_count": 36,
   "id": "c5ce2f07",
   "metadata": {},
   "outputs": [
    {
     "data": {
      "text/html": [
       "<div>\n",
       "<style scoped>\n",
       "    .dataframe tbody tr th:only-of-type {\n",
       "        vertical-align: middle;\n",
       "    }\n",
       "\n",
       "    .dataframe tbody tr th {\n",
       "        vertical-align: top;\n",
       "    }\n",
       "\n",
       "    .dataframe thead th {\n",
       "        text-align: right;\n",
       "    }\n",
       "</style>\n",
       "<table border=\"1\" class=\"dataframe\">\n",
       "  <thead>\n",
       "    <tr style=\"text-align: right;\">\n",
       "      <th></th>\n",
       "      <th>Origin Latitude</th>\n",
       "      <th>Origin Longitude</th>\n",
       "      <th>Destination Latitude</th>\n",
       "      <th>Destination Longitude</th>\n",
       "      <th>Distance</th>\n",
       "      <th>Mean Travel Time (Minutes)</th>\n",
       "      <th>Average speed</th>\n",
       "    </tr>\n",
       "  </thead>\n",
       "  <tbody>\n",
       "    <tr>\n",
       "      <th>count</th>\n",
       "      <td>5.060000e+02</td>\n",
       "      <td>5.060000e+02</td>\n",
       "      <td>506.000000</td>\n",
       "      <td>506.000000</td>\n",
       "      <td>506.000000</td>\n",
       "      <td>506.000000</td>\n",
       "      <td>506.000000</td>\n",
       "    </tr>\n",
       "    <tr>\n",
       "      <th>mean</th>\n",
       "      <td>-3.386874e+01</td>\n",
       "      <td>1.512053e+02</td>\n",
       "      <td>-33.849562</td>\n",
       "      <td>151.130790</td>\n",
       "      <td>11.307075</td>\n",
       "      <td>21.098617</td>\n",
       "      <td>30.405138</td>\n",
       "    </tr>\n",
       "    <tr>\n",
       "      <th>std</th>\n",
       "      <td>2.844984e-14</td>\n",
       "      <td>2.560485e-13</td>\n",
       "      <td>0.066358</td>\n",
       "      <td>0.079635</td>\n",
       "      <td>5.703301</td>\n",
       "      <td>7.306085</td>\n",
       "      <td>7.184685</td>\n",
       "    </tr>\n",
       "    <tr>\n",
       "      <th>min</th>\n",
       "      <td>-3.386874e+01</td>\n",
       "      <td>1.512053e+02</td>\n",
       "      <td>-34.041390</td>\n",
       "      <td>150.902530</td>\n",
       "      <td>1.740000</td>\n",
       "      <td>5.630000</td>\n",
       "      <td>8.000000</td>\n",
       "    </tr>\n",
       "    <tr>\n",
       "      <th>25%</th>\n",
       "      <td>-3.386874e+01</td>\n",
       "      <td>1.512053e+02</td>\n",
       "      <td>-33.900738</td>\n",
       "      <td>151.087430</td>\n",
       "      <td>6.835000</td>\n",
       "      <td>15.405000</td>\n",
       "      <td>26.000000</td>\n",
       "    </tr>\n",
       "    <tr>\n",
       "      <th>50%</th>\n",
       "      <td>-3.386874e+01</td>\n",
       "      <td>1.512053e+02</td>\n",
       "      <td>-33.838470</td>\n",
       "      <td>151.133335</td>\n",
       "      <td>10.470000</td>\n",
       "      <td>21.380000</td>\n",
       "      <td>30.000000</td>\n",
       "    </tr>\n",
       "    <tr>\n",
       "      <th>75%</th>\n",
       "      <td>-3.386874e+01</td>\n",
       "      <td>1.512053e+02</td>\n",
       "      <td>-33.801552</td>\n",
       "      <td>151.187453</td>\n",
       "      <td>14.547500</td>\n",
       "      <td>26.522500</td>\n",
       "      <td>34.000000</td>\n",
       "    </tr>\n",
       "    <tr>\n",
       "      <th>max</th>\n",
       "      <td>-3.386874e+01</td>\n",
       "      <td>1.512053e+02</td>\n",
       "      <td>-33.709850</td>\n",
       "      <td>151.291450</td>\n",
       "      <td>29.180000</td>\n",
       "      <td>41.080000</td>\n",
       "      <td>49.000000</td>\n",
       "    </tr>\n",
       "  </tbody>\n",
       "</table>\n",
       "</div>"
      ],
      "text/plain": [
       "       Origin Latitude  Origin Longitude  Destination Latitude  \\\n",
       "count     5.060000e+02      5.060000e+02            506.000000   \n",
       "mean     -3.386874e+01      1.512053e+02            -33.849562   \n",
       "std       2.844984e-14      2.560485e-13              0.066358   \n",
       "min      -3.386874e+01      1.512053e+02            -34.041390   \n",
       "25%      -3.386874e+01      1.512053e+02            -33.900738   \n",
       "50%      -3.386874e+01      1.512053e+02            -33.838470   \n",
       "75%      -3.386874e+01      1.512053e+02            -33.801552   \n",
       "max      -3.386874e+01      1.512053e+02            -33.709850   \n",
       "\n",
       "       Destination Longitude    Distance  Mean Travel Time (Minutes)  \\\n",
       "count             506.000000  506.000000                  506.000000   \n",
       "mean              151.130790   11.307075                   21.098617   \n",
       "std                 0.079635    5.703301                    7.306085   \n",
       "min               150.902530    1.740000                    5.630000   \n",
       "25%               151.087430    6.835000                   15.405000   \n",
       "50%               151.133335   10.470000                   21.380000   \n",
       "75%               151.187453   14.547500                   26.522500   \n",
       "max               151.291450   29.180000                   41.080000   \n",
       "\n",
       "       Average speed  \n",
       "count     506.000000  \n",
       "mean       30.405138  \n",
       "std         7.184685  \n",
       "min         8.000000  \n",
       "25%        26.000000  \n",
       "50%        30.000000  \n",
       "75%        34.000000  \n",
       "max        49.000000  "
      ]
     },
     "execution_count": 36,
     "metadata": {},
     "output_type": "execute_result"
    }
   ],
   "source": [
    "new_df.describe()"
   ]
  },
  {
   "cell_type": "markdown",
   "id": "51078d4d",
   "metadata": {},
   "source": [
    "Эти статистические метрики позволяют получить представление о распределении и характеристиках данных. Например, мы можем видеть, что среднее время путешествия составляет примерно 21 минуту, а среднее расстояние составляет около 11 километров, средняя скорость (\"Average speed\") составляет около 30.41 км/час"
   ]
  },
  {
   "cell_type": "markdown",
   "id": "70c72a7b",
   "metadata": {},
   "source": [
    "#### На основе анализа данных можно сделать следующие выводы:"
   ]
  },
  {
   "cell_type": "markdown",
   "id": "85162f94",
   "metadata": {},
   "source": [
    "* Водители Uber в Sydney выполняют путешествия в среднем на расстояние около 11 километров за примерно 21 минуту.\n",
    "* Средняя скорость путешествия составляет около 30 км/час, что отражает общую скорость движения в городе.\n",
    "* Водители Uber в Sydney могут прогнозировать время путешествия на основе расстояния и средней скорости."
   ]
  },
  {
   "cell_type": "markdown",
   "id": "ca77a972",
   "metadata": {},
   "source": [
    "Эти выводы могут быть полезны для оптимизации и улучшения услуг Uber в Sydney, например, планирования маршрутов, оценки времени доставки и повышения эффективности системы перевозок."
   ]
  },
  {
   "cell_type": "code",
   "execution_count": null,
   "id": "97db7b5d",
   "metadata": {},
   "outputs": [],
   "source": []
  }
 ],
 "metadata": {
  "kernelspec": {
   "display_name": "Python 3 (ipykernel)",
   "language": "python",
   "name": "python3"
  },
  "language_info": {
   "codemirror_mode": {
    "name": "ipython",
    "version": 3
   },
   "file_extension": ".py",
   "mimetype": "text/x-python",
   "name": "python",
   "nbconvert_exporter": "python",
   "pygments_lexer": "ipython3",
   "version": "3.10.9"
  }
 },
 "nbformat": 4,
 "nbformat_minor": 5
}
